{
  "nbformat": 4,
  "nbformat_minor": 0,
  "metadata": {
    "colab": {
      "provenance": [],
      "authorship_tag": "ABX9TyMzO5jcnSVt/uL4YMzLg1U4",
      "include_colab_link": true
    },
    "kernelspec": {
      "name": "python3",
      "display_name": "Python 3"
    },
    "language_info": {
      "name": "python"
    }
  },
  "cells": [
    {
      "cell_type": "markdown",
      "metadata": {
        "id": "view-in-github",
        "colab_type": "text"
      },
      "source": [
        "<a href=\"https://colab.research.google.com/github/Danelu19/FirstProyect-Steganography/blob/main/Steganography.ipynb\" target=\"_parent\"><img src=\"https://colab.research.google.com/assets/colab-badge.svg\" alt=\"Open In Colab\"/></a>"
      ]
    },
    {
      "cell_type": "code",
      "source": [
        "import cv2\n",
        "\n",
        "def encode_text(cover_image, secret_text):\n",
        "    # Convert the secret text to a list of integers\n",
        "    secret_text_ints = [ord(c) for c in secret_text]\n",
        "\n",
        "    # Make sure the cover image is large enough to hold the secret text\n",
        "    height, width, channels = cover_image.shape\n",
        "    if len(secret_text_ints) > height * width:\n",
        "        raise ValueError(\"Cover image is too small to hold secret text\")\n",
        "\n",
        "    # Create an empty output image\n",
        "    output_image = cover_image.copy()\n",
        "\n",
        "    # Iterate over the pixels in the cover image and encode the secret text\n",
        "    index = 0\n",
        "    for i in range(height):\n",
        "        for j in range(width):\n",
        "            # Get the pixel value from the cover image\n",
        "            cover_pixel = cover_image[i, j]\n",
        "\n",
        "            # Encode the secret text in the least significant bits of the cover image pixels\n",
        "            output_pixel = [\n",
        "                (cover_pixel[0] & 252) | (secret_text_ints[index] >> 6),\n",
        "                (cover_pixel[1] & 252) | ((secret_text_ints[index] >> 3) & 3),\n",
        "                (cover_pixel[2] & 252) | (secret_text_ints[index] & 3)\n",
        "            ]\n",
        "            index += 1\n",
        "            if index >= len(secret_text_ints):\n",
        "                break\n",
        "\n",
        "            # Set the pixel value in the output image\n",
        "            output_image[i, j] = output_pixel\n",
        "\n",
        "        if index >= len(secret_text_ints):\n",
        "            break\n",
        "\n",
        "    return output_image\n",
        "\n",
        "def decode_text(encoded_image):\n",
        "    # Create an empty output text string\n",
        "    output_text = \"\"\n",
        "\n",
        "    # Iterate over the pixels in the encoded image and decode the secret text\n",
        "    height, width, channels = encoded_image.shape\n",
        "    for i in range(height):\n",
        "        for j in range(width):\n",
        "            # Get the pixel value from the encoded image\n",
        "            encoded_pixel = encoded_image[i, j]\n",
        "\n",
        "            # Decode the secret text from the least significant bits of the encoded image pixels\n",
        "            char_code = (encoded_pixel[0] << 6) | (encoded_pixel[1] << 3) | encoded_pixel[2]\n",
        "            if char_code == 0:\n",
        "                break\n",
        "            output_text += chr(char_code)\n",
        "\n",
        "    return output_text\n",
        "\n",
        "# Load the cover image\n",
        "cover_image = cv2.imread(\"Imagen1.png\")\n",
        "\n",
        "# Encode the secret text in the cover image\n",
        "secret_text = \"This is the secret text\"\n",
        "encoded_image = encode_text(cover_image, secret_text)\n",
        "\n",
        "# Save the encoded image\n",
        "cv2.imwrite(\"Imagen2.png\", encoded_image)\n",
        "\n",
        "# Decode the hidden text from the encoded image\n",
        "decoded_text = decode_text(encoded_image)\n",
        "\n",
        "# Print the decoded text\n",
        "print(decoded_text)\n"
      ],
      "metadata": {
        "colab": {
          "base_uri": "https://localhost:8080/",
          "height": 356
        },
        "id": "zSlDuCCtlBIO",
        "outputId": "b22726d8-5865-47ff-c12b-d9238786dca6"
      },
      "execution_count": null,
      "outputs": [
        {
          "output_type": "error",
          "ename": "AttributeError",
          "evalue": "ignored",
          "traceback": [
            "\u001b[0;31m---------------------------------------------------------------------------\u001b[0m",
            "\u001b[0;31mAttributeError\u001b[0m                            Traceback (most recent call last)",
            "\u001b[0;32m<ipython-input-4-c634a58d1047>\u001b[0m in \u001b[0;36m<module>\u001b[0;34m\u001b[0m\n\u001b[1;32m     62\u001b[0m \u001b[0;31m# Encode the secret text in the cover image\u001b[0m\u001b[0;34m\u001b[0m\u001b[0;34m\u001b[0m\u001b[0;34m\u001b[0m\u001b[0m\n\u001b[1;32m     63\u001b[0m \u001b[0msecret_text\u001b[0m \u001b[0;34m=\u001b[0m \u001b[0;34m\"This is the secret text\"\u001b[0m\u001b[0;34m\u001b[0m\u001b[0;34m\u001b[0m\u001b[0m\n\u001b[0;32m---> 64\u001b[0;31m \u001b[0mencoded_image\u001b[0m \u001b[0;34m=\u001b[0m \u001b[0mencode_text\u001b[0m\u001b[0;34m(\u001b[0m\u001b[0mcover_image\u001b[0m\u001b[0;34m,\u001b[0m \u001b[0msecret_text\u001b[0m\u001b[0;34m)\u001b[0m\u001b[0;34m\u001b[0m\u001b[0;34m\u001b[0m\u001b[0m\n\u001b[0m\u001b[1;32m     65\u001b[0m \u001b[0;34m\u001b[0m\u001b[0m\n\u001b[1;32m     66\u001b[0m \u001b[0;31m# Save the encoded image\u001b[0m\u001b[0;34m\u001b[0m\u001b[0;34m\u001b[0m\u001b[0;34m\u001b[0m\u001b[0m\n",
            "\u001b[0;32m<ipython-input-4-c634a58d1047>\u001b[0m in \u001b[0;36mencode_text\u001b[0;34m(cover_image, secret_text)\u001b[0m\n\u001b[1;32m      6\u001b[0m \u001b[0;34m\u001b[0m\u001b[0m\n\u001b[1;32m      7\u001b[0m     \u001b[0;31m# Make sure the cover image is large enough to hold the secret text\u001b[0m\u001b[0;34m\u001b[0m\u001b[0;34m\u001b[0m\u001b[0;34m\u001b[0m\u001b[0m\n\u001b[0;32m----> 8\u001b[0;31m     \u001b[0mheight\u001b[0m\u001b[0;34m,\u001b[0m \u001b[0mwidth\u001b[0m\u001b[0;34m,\u001b[0m \u001b[0mchannels\u001b[0m \u001b[0;34m=\u001b[0m \u001b[0mcover_image\u001b[0m\u001b[0;34m.\u001b[0m\u001b[0mshape\u001b[0m\u001b[0;34m\u001b[0m\u001b[0;34m\u001b[0m\u001b[0m\n\u001b[0m\u001b[1;32m      9\u001b[0m     \u001b[0;32mif\u001b[0m \u001b[0mlen\u001b[0m\u001b[0;34m(\u001b[0m\u001b[0msecret_text_ints\u001b[0m\u001b[0;34m)\u001b[0m \u001b[0;34m>\u001b[0m \u001b[0mheight\u001b[0m \u001b[0;34m*\u001b[0m \u001b[0mwidth\u001b[0m\u001b[0;34m:\u001b[0m\u001b[0;34m\u001b[0m\u001b[0;34m\u001b[0m\u001b[0m\n\u001b[1;32m     10\u001b[0m         \u001b[0;32mraise\u001b[0m \u001b[0mValueError\u001b[0m\u001b[0;34m(\u001b[0m\u001b[0;34m\"Cover image is too small to hold secret text\"\u001b[0m\u001b[0;34m)\u001b[0m\u001b[0;34m\u001b[0m\u001b[0;34m\u001b[0m\u001b[0m\n",
            "\u001b[0;31mAttributeError\u001b[0m: 'NoneType' object has no attribute 'shape'"
          ]
        }
      ]
    }
  ]
}